{
  "cells": [
    {
      "cell_type": "markdown",
      "metadata": {
        "id": "view-in-github",
        "colab_type": "text"
      },
      "source": [
        "<a href=\"https://colab.research.google.com/github/schmellerl/gradient_flows_order_parameters_mechanics/blob/main/colab/Example_2_Output.ipynb\" target=\"_parent\"><img src=\"https://colab.research.google.com/assets/colab-badge.svg\" alt=\"Open In Colab\"/></a>"
      ]
    },
    {
      "cell_type": "code",
      "execution_count": null,
      "metadata": {
        "id": "joCiVdN3Pim7"
      },
      "outputs": [],
      "source": [
        "# put in a separate file\n",
        "try:\n",
        "    import google.colab  # noqa: F401\n",
        "except ImportError:\n",
        "    import ufl\n",
        "    import dolfin\n",
        "else:\n",
        "    try:\n",
        "        import ufl\n",
        "        import dolfin\n",
        "    except ImportError:\n",
        "        !wget \"https://fem-on-colab.github.io/releases/fenics-install.sh\" -O \"/tmp/fenics-install.sh\" && bash \"/tmp/fenics-install.sh\"\n",
        "        import ufl\n",
        "        import dolfin\n",
        "\n",
        "from google.colab import drive\n",
        "drive.mount('/content/drive', force_remount=True)\n",
        "input_path  = '/content/drive/MyDrive/ColabNumerics/Example2/'\n",
        "output_path = '/content/drive/MyDrive/ColabNumerics/Images/'"
      ]
    },
    {
      "cell_type": "code",
      "execution_count": null,
      "metadata": {
        "id": "rP5ONu-DPrGC"
      },
      "outputs": [],
      "source": [
        "from fenics import *\n",
        "from matplotlib import pyplot as plt\n",
        "import numpy as np\n",
        "\n",
        "plt.rcParams.update({'font.size': 14})\n",
        "\n",
        "\n",
        "filepath = '/content/drive/MyDrive/ColabNumerics/Example2/'\n",
        "\n",
        "plt.rcParams.update({'font.size': 14})\n",
        "\n",
        "E = np.load(filepath + \"energies.npy\")\n",
        "mesh = Mesh(filepath + \"mesh.xml\")\n",
        "\n",
        "Vu    = FunctionSpace(mesh,VectorElement(\"P\", mesh.ufl_cell(), 1))\n",
        "Vpsi  = FunctionSpace(mesh,FiniteElement(\"P\", mesh.ufl_cell(), 1))\n",
        "U     = FunctionSpace(mesh,FiniteElement(\"P\", mesh.ufl_cell(), 1))\n",
        "\n",
        "\n",
        "m = 0\n",
        "plt.figure(figsize=(4*7,7))\n",
        "for i in [1,10, 500, 1000, 1500]: #70,400,800,3000]:\n",
        "  m += 1\n",
        "  mesh = Mesh(filepath + \"mesh.xml\")\n",
        "  Vu    = FunctionSpace(mesh,VectorElement(\"P\", mesh.ufl_cell(), 1))\n",
        "  Vpsi  = FunctionSpace(mesh,FiniteElement(\"P\", mesh.ufl_cell(), 1))\n",
        "  U     = FunctionSpace(mesh,FiniteElement(\"P\", mesh.ufl_cell(), 1))\n",
        "  \n",
        "  psi = Function(Vpsi,input_path + \"psi\"+str(i)+\".xml\")\n",
        "  u   = Function(Vu  ,input_path + \"u\"+str(i)+\".xml\")\n",
        "  ALE.move(mesh,u)\n",
        "  plt.subplot(1,5,m)\n",
        "  #A = plot(psi)\n",
        "  #plt.colorbar(A)\n",
        "  # plot(u)\n",
        "  #c = plot(psi)\n",
        "  c = plot(psi,mode=\"color\",vmin=0,vmax=1.0)\n",
        "  plt.xlim([-1.3,1.3])\n",
        "  plt.ylim([-1.3,1.3])\n",
        "  plot(mesh,linewidth=0.3)\n",
        "\n",
        "  #ALE.move(mesh,project(-u,Vu))\n",
        "\n",
        "  plt.title(\"time $t=\"+f\"{E[1][i]:.4f}\"+\"$\")\n",
        "  plt.xlabel(\"$X$\")\n",
        "  plt.ylabel(\"$Y$\")\n",
        "\n",
        "cax = plt.axes([0.915, 0.235, 0.015, 0.535])\n",
        "\n",
        "plt.colorbar(c,cax=cax)\n",
        "plt.savefig(output_path + \"EX2_FIG1.jpeg\",dpi=800)\n",
        "plt.show()\n",
        "\n",
        "plt.figure(figsize=(6,6))\n",
        "\n",
        "plt.plot(E[1],E[2])\n",
        "plt.plot(E[1],E[3])\n",
        "plt.plot(E[1],E[4])\n",
        "plt.grid(True)\n",
        "plt.xlabel(\"time $t$\")\n",
        "plt.ylabel(\"energy\")\n",
        "plt.legend(['$\\mathscr{F}$', '$W_\\mathrm{elast}$','$W_\\mathrm{phase}$'],fontsize=14)\n",
        "plt.savefig(output_path + \"EX2_FIG2.pdf\")"
      ]
    }
  ],
  "metadata": {
    "colab": {
      "collapsed_sections": [],
      "name": "Example-2-Output.ipynb",
      "provenance": [],
      "include_colab_link": true
    },
    "kernelspec": {
      "display_name": "Python 3",
      "name": "python3"
    },
    "language_info": {
      "name": "python"
    }
  },
  "nbformat": 4,
  "nbformat_minor": 0
}