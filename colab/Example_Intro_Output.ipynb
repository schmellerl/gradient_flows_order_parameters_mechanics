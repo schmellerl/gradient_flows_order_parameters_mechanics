{
  "nbformat": 4,
  "nbformat_minor": 0,
  "metadata": {
    "colab": {
      "name": "Example-Intro-Output.ipynb",
      "provenance": [],
      "collapsed_sections": []
    },
    "kernelspec": {
      "name": "python3",
      "display_name": "Python 3"
    },
    "language_info": {
      "name": "python"
    }
  },
  "cells": [
    {
      "cell_type": "code",
      "metadata": {
        "id": "joCiVdN3Pim7"
      },
      "source": [
        "# put in a separate file\n",
        "try:\n",
        "    import google.colab  # noqa: F401\n",
        "except ImportError:\n",
        "    import ufl\n",
        "    import dolfin\n",
        "else:\n",
        "    try:\n",
        "        import ufl\n",
        "        import dolfin\n",
        "    except ImportError:\n",
        "        !wget \"https://fem-on-colab.github.io/releases/fenics-install.sh\" -O \"/tmp/fenics-install.sh\" && bash \"/tmp/fenics-install.sh\"\n",
        "        import ufl\n",
        "        import dolfin\n",
        "\n",
        "from google.colab import drive\n",
        "drive.mount('/content/drive', force_remount=True)"
      ],
      "execution_count": null,
      "outputs": []
    },
    {
      "cell_type": "code",
      "metadata": {
        "id": "rP5ONu-DPrGC"
      },
      "source": [
        "from fenics import *\n",
        "from matplotlib import pyplot as plt\n",
        "import numpy as np\n",
        "\n",
        "filepath = '/content/drive/MyDrive/ColabNumerics/ExampleIntro/'\n",
        "\n",
        "plt.rcParams.update({'font.size': 14})\n",
        "\n",
        "E = np.load(filepath + \"energies.npy\")\n",
        "mesh = Mesh(filepath + \"mesh.xml\")\n",
        "\n",
        "Vu    = FunctionSpace(mesh,VectorElement(\"P\", mesh.ufl_cell(), 1))\n",
        "Vpsi  = FunctionSpace(mesh,FiniteElement(\"P\", mesh.ufl_cell(), 1))\n",
        "U     = FunctionSpace(mesh,FiniteElement(\"P\", mesh.ufl_cell(), 1))\n",
        "\n",
        "m = 0\n",
        "plt.figure(figsize=(4*7,7))\n",
        "for i in [1,20,400,900]:\n",
        "  m += 1\n",
        "  psi = Function(Vpsi,filepath + \"psi\"+str(i)+\".xml\")\n",
        "  u   = Function(Vu  ,filepath + \"u\"+str(i)+\".xml\")\n",
        "  ALE.move(mesh,u)\n",
        "  plt.subplot(1,5,m)\n",
        "  plot(psi)\n",
        "  # plot(u)\n",
        "  plot(mesh,linewidth=0.3)\n",
        "  ALE.move(mesh,project(-u,Vu))\n",
        "  plt.title(\"time $t=\"+f\"{E[1][i]:.4f}\"+\"$\")\n",
        "  plt.xlabel(\"$X$\")\n",
        "  plt.ylabel(\"$Y$\")\n",
        "\n",
        "plt.savefig(filepath + \"EX1_FIG1.jpeg\",dpi=800)\n",
        "\n",
        "plt.figure(figsize=(7,7))\n",
        "plt.plot(E[1],E[2])\n",
        "plt.grid(True)\n",
        "plt.xlabel(\"time $t$\")\n",
        "plt.ylabel(\"free energy $\\mathscr{F}(q(t))$\")\n",
        "plt.savefig(filepath + \"EX1_FIG2.pdf\")"
      ],
      "execution_count": null,
      "outputs": []
    },
    {
      "cell_type": "code",
      "metadata": {
        "id": "G49X1qKy4Iws"
      },
      "source": [
        ""
      ],
      "execution_count": null,
      "outputs": []
    }
  ]
}