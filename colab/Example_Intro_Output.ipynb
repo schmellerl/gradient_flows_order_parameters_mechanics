{
  "nbformat": 4,
  "nbformat_minor": 0,
  "metadata": {
    "colab": {
      "name": "Example-Intro-Output.ipynb",
      "provenance": [],
      "collapsed_sections": [],
      "include_colab_link": true
    },
    "kernelspec": {
      "name": "python3",
      "display_name": "Python 3"
    },
    "language_info": {
      "name": "python"
    }
  },
  "cells": [
    {
      "cell_type": "markdown",
      "metadata": {
        "id": "view-in-github",
        "colab_type": "text"
      },
      "source": [
        "<a href=\"https://colab.research.google.com/github/schmellerl/gradient_flows_order_parameters_mechanics/blob/main/colab/Example_Intro_Output.ipynb\" target=\"_parent\"><img src=\"https://colab.research.google.com/assets/colab-badge.svg\" alt=\"Open In Colab\"/></a>"
      ]
    },
    {
      "cell_type": "code",
      "metadata": {
        "id": "joCiVdN3Pim7"
      },
      "source": [
        "# put in a separate file\n",
        "try:\n",
        "    import google.colab  # noqa: F401\n",
        "except ImportError:\n",
        "    import ufl\n",
        "    import dolfin\n",
        "else:\n",
        "    try:\n",
        "        import ufl\n",
        "        import dolfin\n",
        "    except ImportError:\n",
        "        !wget \"https://fem-on-colab.github.io/releases/fenics-install.sh\" -O \"/tmp/fenics-install.sh\" && bash \"/tmp/fenics-install.sh\"\n",
        "        import ufl\n",
        "        import dolfin\n",
        "\n",
        "from google.colab import drive\n",
        "drive.mount('/content/drive', force_remount=True)\n",
        "input_path  = '/content/drive/MyDrive/ColabNumerics/ExampleIntro/'\n",
        "output_path = '/content/drive/MyDrive/ColabNumerics/Images/'"
      ],
      "execution_count": null,
      "outputs": []
    },
    {
      "cell_type": "code",
      "metadata": {
        "id": "rP5ONu-DPrGC"
      },
      "source": [
        "from fenics import *\n",
        "from matplotlib import pyplot as plt\n",
        "\n",
        "import numpy as np\n",
        "input_path  = '/content/drive/MyDrive/ColabNumerics/ExampleIntro/'\n",
        "plt.rcParams.update({'font.size': 14})\n",
        "\n",
        "E = np.load(input_path + \"energies.npy\")\n",
        "mesh = Mesh(input_path + \"mesh.xml\")\n",
        "\n",
        "Vu    = FunctionSpace(mesh,VectorElement(\"P\", mesh.ufl_cell(), 1))\n",
        "Vpsi  = FunctionSpace(mesh,FiniteElement(\"P\", mesh.ufl_cell(), 1))\n",
        "\n",
        "m = 0\n",
        "plt.figure(figsize=(4*7,7))\n",
        "\n",
        "# fig, axes = plt.subplots(nrows=1, ncols=5, figsize=(20, 7))\n",
        "\n",
        "\n",
        "for i in [1,30,400,800,1000]:\n",
        "  \n",
        "  psi = Function(Vpsi,input_path + \"psi\"+str(i)+\".xml\")\n",
        "  u   = Function(Vu  ,input_path + \"u\"+str(i)+\".xml\")\n",
        "  ALE.move(mesh,u)\n",
        "  m += 1\n",
        "\n",
        "  plt.subplot(1,5,m)\n",
        "  c = plot(psi,mode=\"color\",vmin=-1.0,vmax=1.0)\n",
        "  # plot(u)\n",
        "  plot(mesh,linewidth=0.3)\n",
        "  ALE.move(mesh,project(-u,Vu))\n",
        "  \n",
        "  plt.title(\"time $t=\"+f\"{E[1][i]:.4f}\"+\"$\")\n",
        "  plt.xlabel(\"$X$\")\n",
        "  plt.ylabel(\"$Y$\")\n",
        "\n",
        "cax = plt.axes([0.915, 0.235, 0.015, 0.535])\n",
        "plt.colorbar(c,cax=cax)\n",
        "plt.savefig(output_path + \"EXINTRO_FIG1.jpeg\",dpi=800)\n",
        "plt.show()\n",
        "\n",
        "plt.figure(figsize=(6,6))\n",
        "\n",
        "plt.plot(E[1],E[2])\n",
        "plt.plot(E[1],E[3])\n",
        "plt.plot(E[1],E[4])\n",
        "plt.grid(True)\n",
        "plt.xlabel(\"time $t$\")\n",
        "plt.ylabel(\"energy\")\n",
        "plt.legend(['$\\mathscr{F}$', '$W_\\mathrm{elast}$','$W_\\mathrm{phase}$'],fontsize=14)\n",
        "plt.savefig(output_path + \"EXINTRO_FIG2.pdf\")"
      ],
      "execution_count": null,
      "outputs": []
    },
    {
      "cell_type": "code",
      "source": [
        ""
      ],
      "metadata": {
        "id": "dvQI7PRXnSOU"
      },
      "execution_count": null,
      "outputs": []
    }
  ]
}