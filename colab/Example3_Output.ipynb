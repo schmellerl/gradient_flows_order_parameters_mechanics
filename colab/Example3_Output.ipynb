{
  "cells": [
    {
      "cell_type": "markdown",
      "metadata": {
        "id": "view-in-github",
        "colab_type": "text"
      },
      "source": [
        "<a href=\"https://colab.research.google.com/github/schmellerl/gradient_flows_order_parameters_mechanics/blob/main/colab/Example3_Output.ipynb\" target=\"_parent\"><img src=\"https://colab.research.google.com/assets/colab-badge.svg\" alt=\"Open In Colab\"/></a>"
      ]
    },
    {
      "cell_type": "code",
      "execution_count": null,
      "metadata": {
        "id": "joCiVdN3Pim7"
      },
      "outputs": [],
      "source": [
        "# put in a separate file\n",
        "try:\n",
        "    import google.colab  # noqa: F401\n",
        "except ImportError:\n",
        "    import ufl\n",
        "    import dolfin\n",
        "else:\n",
        "    try:\n",
        "        import ufl\n",
        "        import dolfin\n",
        "    except ImportError:\n",
        "        !wget \"https://fem-on-colab.github.io/releases/fenics-install.sh\" -O \"/tmp/fenics-install.sh\" && bash \"/tmp/fenics-install.sh\"\n",
        "        import ufl\n",
        "        import dolfin\n",
        "\n",
        "from google.colab import drive\n",
        "drive.mount('/content/drive', force_remount=True)\n",
        "input_path  = '/content/drive/MyDrive/ColabNumerics/Example3/'\n",
        "output_path = '/content/drive/MyDrive/ColabNumerics/Images/'"
      ]
    },
    {
      "cell_type": "code",
      "source": [
        "from fenics import *\n",
        "from matplotlib import pyplot as plt\n",
        "import numpy as np\n",
        "\n",
        "plt.rcParams.update({'font.size': 14})\n",
        "\n",
        "E = np.load(input_path + \"energies.npy\")\n",
        "mesh = Mesh(input_path + \"mesh.xml\")\n",
        "\n",
        "Vu    = FunctionSpace(mesh,VectorElement(\"P\", mesh.ufl_cell(), 1))\n",
        "Vpsi  = FunctionSpace(mesh,FiniteElement(\"P\", mesh.ufl_cell(), 1))\n",
        "\n",
        "m = 0\n",
        "plt.figure(figsize=(4*7,7))\n",
        "\n",
        "for i in [10,100,200,1000]:\n",
        "  mesh = Mesh(input_path + \"mesh.xml\")\n",
        "\n",
        "  psi1 = Function(Vpsi,input_path + \"psi1\"+str(i)+\".xml\")\n",
        "  psi2 = Function(Vpsi,input_path + \"psi2\"+str(i)+\".xml\")\n",
        "  u    = Function(Vu  ,input_path + \"u\"+str(i)+\".xml\")\n",
        "\n",
        "  psi3 = project(-1-psi1-psi2,Vpsi)\n",
        "  psi4 = project( (1+psi1)/2 + 2*(1+psi2)/2 + 3*(1+psi3)/2 +1/20 ,Vpsi)\n",
        "\n",
        "  ALE.move(mesh,u)\n",
        "  m += 1\n",
        "\n",
        "  plt.subplot(1,4,m)\n",
        "  c = plot(psi4,mode=\"color\",vmin=1,vmax=3.1,cmap='jet')\n",
        "\n",
        "  plt.xlim([0,5])\n",
        "  plt.ylim([0,5])\n",
        "  \n",
        "  plt.title(\"time $t=\"+f\"{E[1][i]:.4f}\"+\"$\")\n",
        "  plt.xlabel(\"$X$\")\n",
        "  plt.ylabel(\"$Y$\")\n",
        "\n",
        "cax = plt.axes([0.915, 0.17, 0.015, 0.67]) \n",
        "plt.colorbar(c,cax=cax)\n",
        "plt.savefig(output_path + \"EX3_FIG1.jpeg\",dpi=800)\n",
        "plt.show()\n",
        "\n",
        "\n",
        "plt.figure(figsize=(6,6))\n",
        "mesh = Mesh(input_path + \"mesh.xml\")\n",
        "u    = Function(Vu  ,input_path + \"u\"+str(i)+\".xml\")\n",
        "ALE.move(mesh,u)\n",
        "c = plot(psi4,mode=\"color\",vmin=1,vmax=3,cmap='jet')\n",
        "plot(mesh,linewidth=0.3)\n",
        "plt.ylim([0,6])\n",
        "plt.savefig(output_path + \"EX3_FIG3.pdf\")\n",
        "\n",
        "plt.figure(figsize=(6,6))\n",
        "plt.plot(E[1],E[2])\n",
        "plt.grid(True)\n",
        "plt.xlabel(\"time $t$\")\n",
        "plt.ylabel(\"energy\")\n",
        "plt.legend(['$\\mathscr{F}$'],fontsize=14)\n",
        "plt.savefig(output_path + \"EX3_FIG2.pdf\")"
      ],
      "metadata": {
        "id": "MhrWDMoTs2hZ"
      },
      "execution_count": null,
      "outputs": []
    },
    {
      "cell_type": "code",
      "source": [
        ""
      ],
      "metadata": {
        "id": "HfoQdbabRLf5"
      },
      "execution_count": null,
      "outputs": []
    }
  ],
  "metadata": {
    "colab": {
      "collapsed_sections": [],
      "name": "Example3-Output.ipynb",
      "provenance": [],
      "include_colab_link": true
    },
    "kernelspec": {
      "display_name": "Python 3",
      "name": "python3"
    },
    "language_info": {
      "name": "python"
    }
  },
  "nbformat": 4,
  "nbformat_minor": 0
}