{
  "cells": [
    {
      "cell_type": "markdown",
      "metadata": {
        "id": "view-in-github",
        "colab_type": "text"
      },
      "source": [
        "<a href=\"https://colab.research.google.com/github/schmellerl/gradient_flows_order_parameters_mechanics/blob/main/colab/Example3_Output.ipynb\" target=\"_parent\"><img src=\"https://colab.research.google.com/assets/colab-badge.svg\" alt=\"Open In Colab\"/></a>"
      ]
    },
    {
      "cell_type": "code",
      "execution_count": null,
      "metadata": {
        "id": "joCiVdN3Pim7"
      },
      "outputs": [],
      "source": [
        "# put in a separate file\n",
        "try:\n",
        "    import google.colab  # noqa: F401\n",
        "except ImportError:\n",
        "    import ufl\n",
        "    import dolfin\n",
        "else:\n",
        "    try:\n",
        "        import ufl\n",
        "        import dolfin\n",
        "    except ImportError:\n",
        "        !wget \"https://fem-on-colab.github.io/releases/fenics-install.sh\" -O \"/tmp/fenics-install.sh\" && bash \"/tmp/fenics-install.sh\"\n",
        "        import ufl\n",
        "        import dolfin\n",
        "\n",
        "from google.colab import drive\n",
        "drive.mount('/content/drive', force_remount=True)"
      ]
    },
    {
      "cell_type": "code",
      "execution_count": null,
      "metadata": {
        "id": "rP5ONu-DPrGC"
      },
      "outputs": [],
      "source": [
        "from fenics import *\n",
        "from matplotlib import pyplot as plt\n",
        "import numpy as np\n",
        "\n",
        "\n",
        "filepath = '/content/drive/MyDrive/ColabNumerics/Example3/'\n",
        "\n",
        "plt.rcParams.update({'font.size': 14})\n",
        "\n",
        "E = np.load(filepath + \"energies.npy\")\n",
        "mesh = Mesh(filepath + \"mesh.xml\")\n",
        "\n",
        "Vu    = FunctionSpace(mesh,VectorElement(\"P\", mesh.ufl_cell(), 1))\n",
        "Vpsi  = FunctionSpace(mesh,FiniteElement(\"P\", mesh.ufl_cell(), 1))\n",
        "U     = FunctionSpace(mesh,FiniteElement(\"P\", mesh.ufl_cell(), 1))\n",
        "\n",
        "\n",
        "m = 0\n",
        "plt.figure(figsize=(4*10,10))\n",
        "for i in [1,20,100,149]:\n",
        "  m += 1\n",
        "  psi1 = Function(Vpsi,filepath + \"psi1\"+str(i)+\".xml\")\n",
        "  psi2 = Function(Vpsi,filepath + \"psi2\"+str(i)+\".xml\")\n",
        "  u    = Function(Vu  ,filepath + \"u\"+str(i)+\".xml\")\n",
        "  psi3 = project(-1-psi1-psi2,Vpsi)\n",
        "  psi4 = project( (1+psi1)/2 + 2*(1+psi2)/2 + 3*(1+psi3)/2 ,Vpsi)\n",
        "  ALE.move(mesh,u)\n",
        "  plt.subplot(1,5,m)\n",
        "  A = plot(psi4)\n",
        "  plt.colorbar(A)\n",
        "  # plot(u)\n",
        "  plot(mesh,linewidth=0.3)\n",
        "  ALE.move(mesh,project(-u,Vu))\n",
        "  #plt.title(\"time $t=\"+f\"{E[1][i]:.4f}\"+\"$\")\n",
        "  plt.xlabel(\"$X$\")\n",
        "  plt.ylabel(\"$Y$\")\n",
        "\n",
        "plt.savefig(filepath + \"EX1_FIG1.jpeg\",dpi=800)\n",
        "\n",
        "plt.figure(figsize=(7,7))\n",
        "plt.plot(E[1],E[2],label = \"total\")\n",
        "plt.grid(True)\n",
        "plt.xlabel(\"time $t$\")\n",
        "plt.ylabel(\"free energy $\\mathscr{F}(q(t))$\")\n",
        "plt.legend(loc=\"upper left\")\n",
        "plt.savefig(filepath + \"EX2_FIG2.pdf\")"
      ]
    }
  ],
  "metadata": {
    "colab": {
      "collapsed_sections": [],
      "name": "Example3-Output.ipynb",
      "provenance": [],
      "include_colab_link": true
    },
    "kernelspec": {
      "display_name": "Python 3",
      "name": "python3"
    },
    "language_info": {
      "name": "python"
    }
  },
  "nbformat": 4,
  "nbformat_minor": 0
}